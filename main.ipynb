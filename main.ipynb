{
 "cells": [
  {
   "cell_type": "code",
   "execution_count": 3,
   "metadata": {},
   "outputs": [
    {
     "name": "stdout",
     "output_type": "stream",
     "text": [
      "Loss: 78.10643012623271\n",
      "y_test stats: -1989.8739331258153 2430.8976979821186 12.865300600801746 638.6108454657225\n"
     ]
    },
    {
     "name": "stderr",
     "output_type": "stream",
     "text": [
      "C:\\Users\\shitals\\AppData\\Local\\Temp/ipykernel_32260/2849733553.py:11: RuntimeWarning: invalid value encountered in log\n",
      "  plt.scatter(x_test, np.log(y_test), color='b')\n",
      "C:\\Users\\shitals\\AppData\\Local\\Temp/ipykernel_32260/2849733553.py:12: RuntimeWarning: invalid value encountered in log\n",
      "  plt.scatter(x_test, np.log(y_pred), color='r')\n"
     ]
    },
    {
     "data": {
      "image/png": "[encoded data removed]",
      "text/plain": [
       "<Figure size 432x288 with 1 Axes>"
      ]
     },
     "metadata": {
      "needs_background": "light"
     },
     "output_type": "display_data"
    }
   ],
   "source": [
    "import matplotlib.pyplot as plt\n",
    "from poly_regr import poly_regress\n",
    "import numpy as np\n",
    "\n",
    "loss, x_test, y_test, y_pred = poly_regress(ground_degree=5)\n",
    "\n",
    "print(\"Loss:\", loss)\n",
    "print(\"y_test stats:\", np.min(y_test), np.max(y_test), np.mean(y_test), np.std(y_test))\n",
    "\n",
    "# Plot the data and the fitted 5th degree polynomial\n",
    "plt.scatter(x_test, np.log(y_test), color='b')\n",
    "plt.scatter(x_test, np.log(y_pred), color='r')\n",
    "plt.show()\n"
   ]
  }
 ],
 "metadata": {
  "kernelspec": {
   "display_name": "base",
   "language": "python",
   "name": "python3"
  },
  "language_info": {
   "codemirror_mode": {
    "name": "ipython",
    "version": 3
   },
   "file_extension": ".py",
   "mimetype": "text/x-python",
   "name": "python",
   "nbconvert_exporter": "python",
   "pygments_lexer": "ipython3",
   "version": "3.9.7"
  },
  "orig_nbformat": 4,
  "vscode": {
   "interpreter": {
    "hash": "f8b40d688a12481f01eadf7380c47edd8a49484a47dba3db091451640e880c68"
   }
  }
 },
 "nbformat": 4,
 "nbformat_minor": 2
}
